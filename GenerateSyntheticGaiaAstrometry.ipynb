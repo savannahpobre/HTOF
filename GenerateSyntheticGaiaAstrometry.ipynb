{
 "cells": [
  {
   "cell_type": "markdown",
   "id": "4979395a",
   "metadata": {},
   "source": [
    "## This notebook generates synthetic gaia absolute astrometry, calibrated so that uncertainties match those given in the catalog.\n",
    "\n",
    "It intakes:\n",
    "1. a simbad resolvable name for a star\n",
    "2. The GOST (Gaia Observation Forecast Tool) data (saved as a csv).\n",
    "\n",
    "And outputs: A csv file with a variety of columns: the date in julian year, the ra and dec of the observation (in degrees), and the elements of the ra, dec inverse covariance matrix. \n"
   ]
  },
  {
   "cell_type": "code",
   "execution_count": 1,
   "id": "9c80b0d2",
   "metadata": {},
   "outputs": [],
   "source": [
    "simbad_name = 'HIP 3850'\n",
    "gost_file_name = '003850' # just enough of the file name to match it.\n",
    "gost_data_directory = 'htof/test/data_for_tests/GaiaeDR3/IntermediateData'"
   ]
  },
  {
   "cell_type": "markdown",
   "id": "976e9d2b",
   "metadata": {},
   "source": [
    "## End of user-set parameters."
   ]
  },
  {
   "cell_type": "code",
   "execution_count": 2,
   "id": "4a1691f2",
   "metadata": {},
   "outputs": [
    {
     "name": "stderr",
     "output_type": "stream",
     "text": [
      "/home/gmbrandt/envs/htof/lib/python3.8/site-packages/erfa/core.py:154: ErfaWarning: ERFA function \"pmsafe\" yielded 1 of \"distance overridden (Note 6)\"\n",
      "  warnings.warn('ERFA function \"{}\" yielded {}'.format(func_name, wmsg),\n"
     ]
    },
    {
     "name": "stdout",
     "output_type": "stream",
     "text": [
      "0.07375702093868661  mas is the htof estimated along-scan error by fitting to match the parallax error.\n"
     ]
    }
   ],
   "source": [
    "from htof.main import Astrometry\n",
    "import numpy as np\n",
    "from astropy.coordinates import SkyCoord\n",
    "from astroquery.gaia import Gaia\n",
    "from astroquery.simbad import Simbad\n",
    "from astropy.time import Time\n",
    "from astropy.table import Table\n",
    "from astropy.coordinates import Angle\n",
    "from astropy import units as u\n",
    "Simbad.add_votable_fields('pmra', 'pmdec')\n",
    "\n",
    "gaia_epoch_ra, gaia_epoch_dec = 2016, 2016\n",
    "Gaia.MAIN_GAIA_TABLE = \"gaiaedr3.gaia_source\"  # Select early Data Release 3\n",
    "\n",
    "def get_gaiaedr3_archive_table(source_name):\n",
    "    # get coordinates of object from SIMBAD\n",
    "    result_table = Simbad.query_object(source_name)\n",
    "    ra, dec = result_table['RA'][0], result_table['DEC'][0]\n",
    "    if 'PMRA' in result_table.colnames and 'PMDEC' in result_table.colnames:\n",
    "        pmra, pmdec = result_table['PMRA'][0]*u.mas/u.yr, result_table['PMDEC'][0]*u.mas/u.yr\n",
    "    else:\n",
    "        pmra, pmdec = 0, 0\n",
    "    coordinate = SkyCoord(ra=ra, dec=dec, unit=(u.hourangle, u.deg),\n",
    "                          frame='icrs', equinox='j2000',\n",
    "                          pm_ra_cosdec=pmra, pm_dec=pmdec,\n",
    "                          obstime=Time(2000.0, format='decimalyear'))\n",
    "    \n",
    "    transformed_coordinate = coordinate.apply_space_motion(new_obstime=Time(gaia_epoch_ra, format='decimalyear'))\n",
    "    # use those coordinates to query gaia.\n",
    "        # use those coordinates to query gaia.\n",
    "    results = Gaia.query_object(coordinate=transformed_coordinate, radius=5.0 * u.arcsec)\n",
    "    if len(results) == 0:\n",
    "        # this might be a high proper motion source, or we got the wrong proper motion from simbad.\n",
    "        # try with a larger search radius around the original coordinate.\n",
    "        results = Gaia.query_object(coordinate=coordinate, radius=100.0 * u.arcsec)\n",
    "\n",
    "    if len(results) > 1:\n",
    "        results = results[0]\n",
    "    return Table(results)\n",
    "\n",
    "\n",
    "\n",
    "def calibrated_gaiaedr3_astrometry(gost_file_name, parallax_error_mas, central_ra, central_dec, fit_degree=2):\n",
    "    # generate an astrometry object where the along_scan_errors have been scaled to perfectly\n",
    "    # match the fitted parallax error (in a five-parameter fit).\n",
    "    astrometry =  Astrometry('GaiaeDR3', gost_file_name, gost_data_directory, \n",
    "                             central_epoch_ra=gaia_epoch_ra, central_epoch_dec=gaia_epoch_dec, format='jyear', \n",
    "                             central_ra=central_ra, central_dec=central_dec,\n",
    "                             fit_degree=1, use_parallax=True)\n",
    "    cov_matrix = astrometry.fitter.evaluate_cov_matrix(gaia_epoch_ra, gaia_epoch_dec)\n",
    "    parallax_error_observed = np.sqrt(cov_matrix[0, 0])\n",
    "    along_scan_error_estimate = parallax_error_mas/parallax_error_observed\n",
    "    \n",
    "    \n",
    "    astrometry =  Astrometry('GaiaeDR3', gost_file_name, gost_data_directory, \n",
    "                             central_epoch_ra=gaia_epoch_ra, central_epoch_dec=gaia_epoch_dec, format='jyear',\n",
    "                             central_ra=central_ra, central_dec=central_dec,\n",
    "                             fit_degree=fit_degree, use_parallax=True, along_scan_error_scaling=along_scan_error_estimate)\n",
    "    # save a few instance attributes for checking this calibration later.\n",
    "    astrometry.gost_file_name = gost_file_name\n",
    "    astrometry.central_ra = central_ra\n",
    "    astrometry.central_dec = central_dec\n",
    "    #\n",
    "    return astrometry\n",
    "\n",
    "def check_validity_of_calibrated_astrometry(gaia_catalog_t, astro: Astrometry):\n",
    "    # debug check that the along scan error scaling did indeed reproduce the EDR3 parallax error.\n",
    "    test_astrometry =  Astrometry('GaiaeDR3', astro.gost_file_name, gost_data_directory, \n",
    "                         central_epoch_ra=gaia_epoch_ra, central_epoch_dec=gaia_epoch_dec, format='jyear',\n",
    "                         central_ra=astro.central_ra, central_dec=astro.central_dec,\n",
    "                         fit_degree=1, use_parallax=True, along_scan_error_scaling=astro.along_scan_error_scaling)\n",
    "    cov_matrix = test_astrometry.fitter.evaluate_cov_matrix(gaia_epoch_ra, gaia_epoch_dec)\n",
    "    test_quantities = {'calculated': {'plx_err': np.sqrt(cov_matrix[0, 0]), 'pmra_err': np.sqrt(cov_matrix[-2, -2]),\n",
    "                                      'pmdec_err': np.sqrt(cov_matrix[-1, -1])},\n",
    "                      'catalog': {'plx_err': t['parallax_error'][0], 'pmra_err': t['pmra_error'][0],\n",
    "                                  'pmdec_err': t['pmdec_error'][0]},\n",
    "                      }\n",
    "    assert np.isclose(np.sqrt(cov_matrix[0, 0]), t['parallax_error'][0], atol=0.00001) # By construction, this HAS to be true.\n",
    "    return test_quantities\n",
    "\n",
    "t = get_gaiaedr3_archive_table(simbad_name)\n",
    "# get the necessary quantities from the table for the calibration\n",
    "parallax = t['parallax'][0] * t['parallax'].unit\n",
    "parallax_error = t['parallax_error'][0] * t['parallax_error'].unit\n",
    "central_ra = Angle(t['ra'][0] * t['ra'].unit)\n",
    "central_dec = Angle(t['dec'][0] * t['ra'].unit)\n",
    "pmra, pmdec = t['pmra'][0] * t['pmra'].unit, t['pmdec'][0] * t['pmdec'].unit\n",
    "\n",
    "astrometry = calibrated_gaiaedr3_astrometry(str(gost_file_name), parallax_error.to(u.mas).value, \n",
    "                                            central_ra, central_dec)\n",
    "print(astrometry.along_scan_error_scaling, ' mas is the htof estimated along-scan error by fitting to match the parallax error.')"
   ]
  },
  {
   "cell_type": "markdown",
   "id": "7d668238",
   "metadata": {},
   "source": [
    "## Testing the validity of the calibration by comparing what our \"calibrated\" htof astrometry object says the pmra and pmdec errors are, compared to what the gaia edr3 archive says they are."
   ]
  },
  {
   "cell_type": "code",
   "execution_count": 3,
   "id": "2dd8cc68",
   "metadata": {},
   "outputs": [
    {
     "name": "stdout",
     "output_type": "stream",
     "text": [
      "{'calculated': {'plx_err': 0.028182508426465958, 'pmra_err': 0.03295875398637716, 'pmdec_err': 0.03207566068043224}, 'catalog': {'plx_err': 0.028182508, 'pmra_err': 0.032545958, 'pmdec_err': 0.032021094}}\n"
     ]
    }
   ],
   "source": [
    "validity_check_results = check_validity_of_calibrated_astrometry(t, astrometry)\n",
    "print(validity_check_results)"
   ]
  },
  {
   "cell_type": "markdown",
   "id": "01576363",
   "metadata": {},
   "source": [
    "## The errors match almost exactly. So the GOST scans + the assumption of uniform along-scan errors is probably pretty good. Since these match, our synthetic absolute astrometric observations should be pretty good (except that they have zero scatter about the observations.. i.e. the observations are all exactly along the best-fit skypath.)"
   ]
  },
  {
   "cell_type": "code",
   "execution_count": 4,
   "id": "907fea94",
   "metadata": {},
   "outputs": [],
   "source": [
    "year_epochs = Time(astrometry.data.julian_day_epoch(), format='jd', scale='tcb').jyear - \\\n",
    "              Time(gaia_epoch_ra, format='decimalyear').jyear\n",
    "ra_plx_factor = astrometry.fitter.parallactic_pertubations['ra_plx']\n",
    "dec_plx_factor = astrometry.fitter.parallactic_pertubations['dec_plx']\n",
    "ra = Angle(ra_plx_factor * parallax.to(u.mas).value + pmra.to(u.mas/u.yr).value  * year_epochs, unit='mas')\n",
    "dec = Angle(dec_plx_factor * parallax.to(u.mas).value  + pmdec.to(u.mas/u.yr).value  * year_epochs, unit='mas')\n",
    "ra += central_ra\n",
    "dec += central_dec\n",
    "# convert to degrees\n",
    "ra = ra.to(u.deg)\n",
    "dec = dec.to(u.deg)"
   ]
  },
  {
   "cell_type": "markdown",
   "id": "ad185329",
   "metadata": {},
   "source": [
    "## generate a comparison skypath for plotting."
   ]
  },
  {
   "cell_type": "code",
   "execution_count": 5,
   "id": "e7633de6",
   "metadata": {},
   "outputs": [],
   "source": [
    "from htof.sky_path import parallactic_motion, earth_sun_l2_ephemeris\n",
    "\n",
    "gaia_epochs = Time(astrometry.data.julian_day_epoch(), format='jd', scale='tcb')\n",
    "jyear_epochs_fine = np.linspace(np.min(gaia_epochs.jyear), np.max(gaia_epochs.jyear), 10000)\n",
    "year_epochs_fine = jyear_epochs_fine - Time(gaia_epoch_ra, format='decimalyear').jyear\n",
    "ra_comparison = 0\n",
    "dec_comparison = 0\n",
    "\n",
    "plx_factor_ra_fine, plx_factor_dec_fine = parallactic_motion(jyear_epochs_fine, central_ra.mas, central_dec.mas, \n",
    "                                                             'mas', gaia_epoch_ra, ephemeris=earth_sun_l2_ephemeris)\n",
    "\n",
    "ra_comparison = Angle(plx_factor_ra_fine * parallax.to(u.mas).value + pmra.to(u.mas/u.yr).value  * year_epochs_fine, unit='mas')\n",
    "dec_comparison = Angle(plx_factor_dec_fine * parallax.to(u.mas).value  + pmdec.to(u.mas/u.yr).value  * year_epochs_fine, unit='mas')\n",
    "ra_comparison += central_ra\n",
    "dec_comparison += central_dec\n",
    "# convert to degrees\n",
    "ra_comparison = ra_comparison.to(u.deg)\n",
    "dec_comparison = dec_comparison.to(u.deg)"
   ]
  },
  {
   "cell_type": "markdown",
   "id": "c1df1c3a",
   "metadata": {},
   "source": [
    "## inspect the skypath."
   ]
  },
  {
   "cell_type": "code",
   "execution_count": 6,
   "id": "c76c6837",
   "metadata": {},
   "outputs": [
    {
     "data": {
      "image/png": "[encoded data removed]",
      "text/plain": [
       "<Figure size 432x288 with 1 Axes>"
      ]
     },
     "metadata": {
      "needs_background": "light"
     },
     "output_type": "display_data"
    }
   ],
   "source": [
    "import matplotlib.pyplot as plt\n",
    "plt.figure()\n",
    "plt.scatter(ra, dec)\n",
    "plt.plot(ra_comparison, dec_comparison)\n",
    "plt.show()"
   ]
  },
  {
   "cell_type": "markdown",
   "id": "8f6a9710",
   "metadata": {},
   "source": [
    "## That looks as it should.\n",
    "## So lets make an astropy table and write it to disc."
   ]
  },
  {
   "cell_type": "code",
   "execution_count": 7,
   "id": "f14ba2f5",
   "metadata": {},
   "outputs": [],
   "source": [
    "icov = astrometry.data.inverse_covariance_matrix\n",
    "t = {'#date(jyear)': gaia_epochs.jyear, 'ra(deg)': ra.deg, 'dec(deg)': dec.deg, \n",
    "     'icovrara': icov[:, 0, 0], 'icovradec': icov[:, 0, 1], 'icovdecdec': icov[:, 1, 1]}\n",
    "t = Table(t, units=(u.yr, u.deg, u.deg, 1/u.mas**2, 1/u.mas**2, 1/u.mas**2))"
   ]
  },
  {
   "cell_type": "code",
   "execution_count": 8,
   "id": "ed9b916a",
   "metadata": {},
   "outputs": [
    {
     "name": "stderr",
     "output_type": "stream",
     "text": [
      "WARNING: AstropyDeprecationWarning: HIP_3850synthetic_gaia_abs_ast.ecsv already exists. Automatically overwriting ASCII files is deprecated. Use the argument 'overwrite=True' in the future. [astropy.io.ascii.ui]\n"
     ]
    }
   ],
   "source": [
    "t.write(simbad_name.replace(' ', '_') + 'synthetic_gaia_abs_ast.ecsv')"
   ]
  }
 ],
 "metadata": {
  "kernelspec": {
   "display_name": "Python 3",
   "language": "python",
   "name": "python3"
  },
  "language_info": {
   "codemirror_mode": {
    "name": "ipython",
    "version": 3
   },
   "file_extension": ".py",
   "mimetype": "text/x-python",
   "name": "python",
   "nbconvert_exporter": "python",
   "pygments_lexer": "ipython3",
   "version": "3.8.10"
  }
 },
 "nbformat": 4,
 "nbformat_minor": 5
}
